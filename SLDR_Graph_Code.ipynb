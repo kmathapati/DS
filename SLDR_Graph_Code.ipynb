{
  "nbformat": 4,
  "nbformat_minor": 0,
  "metadata": {
    "kernelspec": {
      "display_name": "Python 3",
      "language": "python",
      "name": "python3"
    },
    "language_info": {
      "codemirror_mode": {
        "name": "ipython",
        "version": 3
      },
      "file_extension": ".py",
      "mimetype": "text/x-python",
      "name": "python",
      "nbconvert_exporter": "python",
      "pygments_lexer": "ipython3",
      "version": "3.6.1"
    },
    "colab": {
      "name": "SLDR_Graph_Code.ipynb",
      "provenance": [],
      "include_colab_link": true
    }
  },
  "cells": [
    {
      "cell_type": "markdown",
      "metadata": {
        "id": "view-in-github",
        "colab_type": "text"
      },
      "source": [
        "<a href=\"https://colab.research.google.com/github/kmathapati/DS/blob/master/SLDR_Graph_Code.ipynb\" target=\"_parent\"><img src=\"https://colab.research.google.com/assets/colab-badge.svg\" alt=\"Open In Colab\"/></a>"
      ]
    },
    {
      "cell_type": "code",
      "metadata": {
        "id": "Q5gTrO57E3Kq"
      },
      "source": [
        "import pandas as pd\n",
        "import numpy as np\n",
        "import seaborn as sns\n",
        "import matplotlib.ticker as ticker\n",
        "import matplotlib.cm as cm\n",
        "import matplotlib as mpl\n",
        "from matplotlib.gridspec import GridSpec\n",
        "import matplotlib.pyplot as plt\n",
        "%matplotlib inline"
      ],
      "execution_count": null,
      "outputs": []
    },
    {
      "cell_type": "code",
      "metadata": {
        "id": "pdKIlRhIE3Ku"
      },
      "source": [
        "slr = pd.read_csv('C:/Users/q1019844/Desktop/R_PD/SLDR_Analysis_Python/Trial_QA_Test_utf.csv',encoding = 'latin1',skip_blank_lines=True)"
      ],
      "execution_count": null,
      "outputs": []
    },
    {
      "cell_type": "code",
      "metadata": {
        "id": "7I2iglKBE3Kx"
      },
      "source": [
        "slr['site'] = slr['site'].apply(str)"
      ],
      "execution_count": null,
      "outputs": []
    },
    {
      "cell_type": "code",
      "metadata": {
        "id": "TkCvQQqzE3Kz"
      },
      "source": [
        "#Bar plot: Distribution of SLDR Queries based on Siganal and Status (RED- Confirmatory, GREEN- DB Update)"
      ],
      "execution_count": null,
      "outputs": []
    },
    {
      "cell_type": "code",
      "metadata": {
        "id": "DcTeqiGcE3K1"
      },
      "source": [
        "df2 = slr.groupby(['Signal', 'DB Status'])['Signal'].count().unstack('DB Status').fillna(0)"
      ],
      "execution_count": null,
      "outputs": []
    },
    {
      "cell_type": "code",
      "metadata": {
        "id": "ee33Tha9E3K5"
      },
      "source": [
        "A = list(df2.iloc[:,0])"
      ],
      "execution_count": null,
      "outputs": []
    },
    {
      "cell_type": "code",
      "metadata": {
        "id": "fidysUXCE3K7"
      },
      "source": [
        "B = list(df2.iloc[:,1])"
      ],
      "execution_count": null,
      "outputs": []
    },
    {
      "cell_type": "code",
      "metadata": {
        "id": "h-MUe3enE3K9"
      },
      "source": [
        "C = [A, B]"
      ],
      "execution_count": null,
      "outputs": []
    },
    {
      "cell_type": "code",
      "metadata": {
        "id": "baJUsXIjE3K_"
      },
      "source": [
        "rows = list(df2.index)"
      ],
      "execution_count": null,
      "outputs": []
    },
    {
      "cell_type": "code",
      "metadata": {
        "id": "abjQyNmOE3LB"
      },
      "source": [
        "segments = 2"
      ],
      "execution_count": null,
      "outputs": []
    },
    {
      "cell_type": "code",
      "metadata": {
        "id": "Lj3MHAeLE3LD"
      },
      "source": [
        "ar1 = list(df2.iloc[0,:])\n",
        "ar2 = list(df2.iloc[1,:])\n",
        "ar3 = list(df2.iloc[2,:])\n",
        "ary = [ar1, ar2, ar3]\n",
        "myarray = np.asarray(ary)"
      ],
      "execution_count": null,
      "outputs": []
    },
    {
      "cell_type": "code",
      "metadata": {
        "id": "PgGCy67yE3LF"
      },
      "source": [
        "y_pos = np.arange(len(rows))"
      ],
      "execution_count": null,
      "outputs": []
    },
    {
      "cell_type": "code",
      "metadata": {
        "scrolled": true,
        "id": "PLbvNzVdE3LH",
        "outputId": "fa35fa33-3bb1-4548-c7fe-0ccfd7105e0e"
      },
      "source": [
        "fig = plt.figure(figsize=(10,3))\n",
        "ax = fig.add_subplot(111)\n",
        "colors ='rgwm'\n",
        "patch_handles = []\n",
        "# left alignment of data starts at zero\n",
        "left = np.zeros(len(rows))\n",
        "for i, d in enumerate(C):\n",
        "    patch_handles.append(ax.barh(y_pos, d, \n",
        "      color=colors[i%len(colors)], align='center', \n",
        "      left=left))\n",
        "    left += d\n",
        "    \n",
        "# search all of the bar segments and annotate\n",
        "for j in range(len(patch_handles)):\n",
        "    for i, patch in enumerate(patch_handles[j].get_children()):\n",
        "        bl = patch.get_xy()\n",
        "        x = 0.5*patch.get_width() + bl[0]\n",
        "        y = 0.5*patch.get_height() + bl[1]\n",
        "        ax.text(x,y,  (myarray[i,j]), ha='center')\n",
        "ax.set_yticks(y_pos)\n",
        "ax.set_yticklabels(rows)\n",
        "ax.set_xlabel('Count')\n",
        "plt.show()"
      ],
      "execution_count": null,
      "outputs": [
        {
          "output_type": "display_data",
          "data": {
            "image/png": "[encoded data removed]",
            "text/plain": [
              "<matplotlib.figure.Figure at 0xb91eef0>"
            ]
          },
          "metadata": {
            "tags": []
          }
        }
      ]
    },
    {
      "cell_type": "code",
      "metadata": {
        "id": "uLdEAQ75E3LK"
      },
      "source": [
        "# Bar chart: Top 10 sites with High Query Count Statuswise Distribution (RED- Confirmatory, GREEN- DB Update)"
      ],
      "execution_count": null,
      "outputs": []
    },
    {
      "cell_type": "code",
      "metadata": {
        "id": "4I25516vE3LM"
      },
      "source": [
        "df3 = slr.groupby(['site', 'DB Status'])['site'].count().unstack('DB Status').fillna(0)"
      ],
      "execution_count": null,
      "outputs": []
    },
    {
      "cell_type": "code",
      "metadata": {
        "id": "jPuPNCE7E3LO"
      },
      "source": [
        "df = slr.groupby(['site', 'DB Status'])['site'].count().unstack('DB Status').fillna(0)\n",
        "df_ss = df.head(10)"
      ],
      "execution_count": null,
      "outputs": []
    },
    {
      "cell_type": "code",
      "metadata": {
        "id": "kstZ9fesE3LP"
      },
      "source": [
        "A1 = list(df_ss.iloc[:,0])\n",
        "B1 = list(df_ss.iloc[:,1])\n",
        "C1 = [A1, B1]"
      ],
      "execution_count": null,
      "outputs": []
    },
    {
      "cell_type": "code",
      "metadata": {
        "id": "GfddqMfSE3LR"
      },
      "source": [
        "x = [0, 1, 2, 3, 4, 5, 6, 7, 8, 9]\n",
        "a = []\n",
        "for i in x:\n",
        "    ar = list(df_ss.iloc[i,:])\n",
        "    a.append(ar)\n",
        "a\n",
        "myarray1 = np.asarray(a)"
      ],
      "execution_count": null,
      "outputs": []
    },
    {
      "cell_type": "code",
      "metadata": {
        "id": "UX4I5p_BE3LT"
      },
      "source": [
        "rows1 = list(df_ss.index)"
      ],
      "execution_count": null,
      "outputs": []
    },
    {
      "cell_type": "code",
      "metadata": {
        "id": "OKAdsmRxE3LV"
      },
      "source": [
        "seg = 2"
      ],
      "execution_count": null,
      "outputs": []
    },
    {
      "cell_type": "code",
      "metadata": {
        "id": "QTxIAvEYE3LX"
      },
      "source": [
        "y_pos = np.arange(len(rows1))"
      ],
      "execution_count": null,
      "outputs": []
    },
    {
      "cell_type": "code",
      "metadata": {
        "scrolled": true,
        "id": "IeCZ9oCpE3LZ",
        "outputId": "88a05715-50fd-4ba5-9f46-d72cf6e26ec2"
      },
      "source": [
        "fig = plt.figure(figsize=(10,10))\n",
        "ax = fig.add_subplot(111)\n",
        "colors ='rgwm'\n",
        "patch_handles = []\n",
        "# left alignment of data starts at zero\n",
        "left = np.zeros(len(rows1))\n",
        "for i, d in enumerate(C1):\n",
        "    patch_handles.append(ax.barh(y_pos, d, \n",
        "      color=colors[i%len(colors)], align='center', \n",
        "      left=left))\n",
        "    left += d\n",
        "    \n",
        "# search all of the bar segments and annotate\n",
        "for j in range(len(patch_handles)):\n",
        "    for i, patch in enumerate(patch_handles[j].get_children()):\n",
        "        bl = patch.get_xy()\n",
        "        x = 0.5*patch.get_width() + bl[0]\n",
        "        y = 0.5*patch.get_height() + bl[1]\n",
        "        ax.text(x,y,  (myarray1[i,j]), ha='center')\n",
        "ax.set_yticks(y_pos)\n",
        "ax.set_yticklabels(rows1)\n",
        "ax.set_xlabel('Count')\n",
        "plt.show()"
      ],
      "execution_count": null,
      "outputs": [
        {
          "output_type": "display_data",
          "data": {
            "image/png": "[encoded data removed]",
            "text/plain": [
              "<matplotlib.figure.Figure at 0xb910a20>"
            ]
          },
          "metadata": {
            "tags": []
          }
        }
      ]
    },
    {
      "cell_type": "code",
      "metadata": {
        "id": "8K6sY_pdE3Lb"
      },
      "source": [
        "## Bar chart: Top 10 sites with High Query Count Signalwise Distribution (RED-Eligibility Related Data, GREEN-Safety Related Data, Yellow-Safety/Eligibility Related Data)"
      ],
      "execution_count": null,
      "outputs": []
    },
    {
      "cell_type": "code",
      "metadata": {
        "id": "-LhJvolJE3Ld"
      },
      "source": [
        "df_sg = slr.groupby(['site', 'Signal'])['site'].count().unstack('Signal').fillna(0)\n",
        "df_signal = df_sg.head(10)"
      ],
      "execution_count": null,
      "outputs": []
    },
    {
      "cell_type": "code",
      "metadata": {
        "id": "sYnOJp9IE3Lg"
      },
      "source": [
        "A_sg = list(df_signal.iloc[:,0])\n",
        "B_sg = list(df_signal.iloc[:,1])\n",
        "C_sg = list(df_signal.iloc[:,2])\n",
        "Com = [A_sg, B_sg, C_sg]"
      ],
      "execution_count": null,
      "outputs": []
    },
    {
      "cell_type": "code",
      "metadata": {
        "id": "dwlHIzC1E3Lk"
      },
      "source": [
        "y = [0, 1, 2, 3, 4, 5, 6, 7, 8, 9]\n",
        "b = []\n",
        "for i in y:\n",
        "    b_ar = list(df_signal.iloc[i,:])\n",
        "    b.append(b_ar)\n",
        "b\n",
        "myarray_sg = np.asarray(b)"
      ],
      "execution_count": null,
      "outputs": []
    },
    {
      "cell_type": "code",
      "metadata": {
        "id": "6cx9NOxgE3Lm"
      },
      "source": [
        "rows = list(df_signal.index)"
      ],
      "execution_count": null,
      "outputs": []
    },
    {
      "cell_type": "code",
      "metadata": {
        "id": "dxytqJVfE3Ln"
      },
      "source": [
        "seg_sg = 2"
      ],
      "execution_count": null,
      "outputs": []
    },
    {
      "cell_type": "code",
      "metadata": {
        "id": "jDSNe3vGE3Lp"
      },
      "source": [
        "y_pos = np.arange(len(rows))"
      ],
      "execution_count": null,
      "outputs": []
    },
    {
      "cell_type": "code",
      "metadata": {
        "scrolled": true,
        "id": "oFEVzgkHE3Lr",
        "outputId": "93d7e31a-8663-4139-8e70-cc2522cfadf5"
      },
      "source": [
        "fig = plt.figure(figsize=(10,10))\n",
        "ax = fig.add_subplot(111)\n",
        "colors ='rgym'\n",
        "patch_handles = []\n",
        "# left alignment of data starts at zero\n",
        "left = np.zeros(len(rows))\n",
        "for i, d in enumerate(Com):\n",
        "    patch_handles.append(ax.barh(y_pos, d, \n",
        "      color=colors[i%len(colors)], align='center', \n",
        "      left=left))\n",
        "    left += d\n",
        "    \n",
        "# search all of the bar segments and annotate\n",
        "for j in range(len(patch_handles)):\n",
        "    for i, patch in enumerate(patch_handles[j].get_children()):\n",
        "        bl = patch.get_xy()\n",
        "        x = 0.5*patch.get_width() + bl[0]\n",
        "        y = 0.5*patch.get_height() + bl[1]\n",
        "        ax.text(x,y,  (myarray_sg[i,j]), ha='center')\n",
        "ax.set_yticks(y_pos)\n",
        "ax.set_yticklabels(rows)\n",
        "ax.set_xlabel('Count')\n",
        "plt.show()"
      ],
      "execution_count": null,
      "outputs": [
        {
          "output_type": "display_data",
          "data": {
            "image/png": "[encoded data removed]",
            "text/plain": [
              "<matplotlib.figure.Figure at 0xb8a09b0>"
            ]
          },
          "metadata": {
            "tags": []
          }
        }
      ]
    },
    {
      "cell_type": "code",
      "metadata": {
        "id": "QYWnwxygE3Lt"
      },
      "source": [
        "#Pie plot: Distribution of SLDR Queries based on Signal"
      ],
      "execution_count": null,
      "outputs": []
    },
    {
      "cell_type": "code",
      "metadata": {
        "id": "eCvIb-LnE3Lv"
      },
      "source": [
        "pie_sources = slr.groupby('Signal').agg('count')\n",
        "source_labels = pie_sources.Form.sort_values().index\n",
        "source_counts = pie_sources.Form.sort_values()"
      ],
      "execution_count": null,
      "outputs": []
    },
    {
      "cell_type": "code",
      "metadata": {
        "id": "yi7hCo_aE3Lw",
        "outputId": "0e8d5ee4-8fc6-4e9c-beac-19d37249e162"
      },
      "source": [
        "plt.figure(1, figsize=(20,10))\n",
        "the_grid = GridSpec(2, 2)\n",
        "cmap = plt.get_cmap('Spectral')\n",
        "colors = [cmap(i) for i in np.linspace(0, 1, 8)]\n",
        "plt.subplot(the_grid[0, 1], aspect=1, title='Signalwise Distribution of SLDR Queries')\n",
        "\n",
        "source_pie = plt.pie(source_counts, labels=source_labels, autopct='%1.1f%%', shadow=True, colors=colors)"
      ],
      "execution_count": null,
      "outputs": [
        {
          "output_type": "display_data",
          "data": {
            "image/png": "[encoded data removed]",
            "text/plain": [
              "<matplotlib.figure.Figure at 0xb8a6080>"
            ]
          },
          "metadata": {
            "tags": []
          }
        }
      ]
    }
  ]
}