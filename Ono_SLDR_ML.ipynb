{
  "nbformat": 4,
  "nbformat_minor": 0,
  "metadata": {
    "kernelspec": {
      "display_name": "Python 3",
      "language": "python",
      "name": "python3"
    },
    "language_info": {
      "codemirror_mode": {
        "name": "ipython",
        "version": 3
      },
      "file_extension": ".py",
      "mimetype": "text/x-python",
      "name": "python",
      "nbconvert_exporter": "python",
      "pygments_lexer": "ipython3",
      "version": "3.6.5"
    },
    "colab": {
      "name": "Ono_SLDR_ML.ipynb",
      "provenance": [],
      "include_colab_link": true
    }
  },
  "cells": [
    {
      "cell_type": "markdown",
      "metadata": {
        "id": "view-in-github",
        "colab_type": "text"
      },
      "source": [
        "<a href=\"https://colab.research.google.com/github/kmathapati/DS/blob/master/Ono_SLDR_ML.ipynb\" target=\"_parent\"><img src=\"https://colab.research.google.com/assets/colab-badge.svg\" alt=\"Open In Colab\"/></a>"
      ]
    },
    {
      "cell_type": "code",
      "metadata": {
        "id": "dbpxuomYo2tw"
      },
      "source": [
        "#List of libraries\n",
        "import pandas as pd\n",
        "import numpy as np\n",
        "import matplotlib.pyplot as plt\n",
        "import seaborn as sns\n",
        "import os\n",
        "import datetime as dt\n",
        "%matplotlib inline"
      ],
      "execution_count": 2,
      "outputs": []
    },
    {
      "cell_type": "code",
      "metadata": {
        "id": "TdoweXqao2tz",
        "outputId": "81e45c0e-7a08-409a-f879-a814a5683c82",
        "colab": {
          "base_uri": "https://localhost:8080/",
          "height": 178
        }
      },
      "source": [
        "#Setting the working directory\n",
        "os.chdir('C:/Users/q832369/OneDrive - IQVIA/Study/Ono/2019/Apr')"
      ],
      "execution_count": 3,
      "outputs": [
        {
          "output_type": "error",
          "ename": "FileNotFoundError",
          "evalue": "ignored",
          "traceback": [
            "\u001b[0;31m---------------------------------------------------------------------------\u001b[0m",
            "\u001b[0;31mFileNotFoundError\u001b[0m                         Traceback (most recent call last)",
            "\u001b[0;32m<ipython-input-3-6b40a53dea41>\u001b[0m in \u001b[0;36m<module>\u001b[0;34m()\u001b[0m\n\u001b[1;32m      1\u001b[0m \u001b[0;31m#Setting the working directory\u001b[0m\u001b[0;34m\u001b[0m\u001b[0;34m\u001b[0m\u001b[0;34m\u001b[0m\u001b[0m\n\u001b[0;32m----> 2\u001b[0;31m \u001b[0mos\u001b[0m\u001b[0;34m.\u001b[0m\u001b[0mchdir\u001b[0m\u001b[0;34m(\u001b[0m\u001b[0;34m'C:/Users/q832369/OneDrive - IQVIA/Study/Ono/2019/Apr'\u001b[0m\u001b[0;34m)\u001b[0m\u001b[0;34m\u001b[0m\u001b[0;34m\u001b[0m\u001b[0m\n\u001b[0m",
            "\u001b[0;31mFileNotFoundError\u001b[0m: [Errno 2] No such file or directory: 'C:/Users/q832369/OneDrive - IQVIA/Study/Ono/2019/Apr'"
          ]
        }
      ]
    },
    {
      "cell_type": "code",
      "metadata": {
        "id": "bfTjVO9do2t2"
      },
      "source": [
        "#Accessing the file\n",
        "#QDR\n",
        "slr = pd.read_csv('Trial_QA.csv',encoding = 'latin1',skip_blank_lines=True)"
      ],
      "execution_count": null,
      "outputs": []
    },
    {
      "cell_type": "code",
      "metadata": {
        "id": "XXSZIT5lo2t5"
      },
      "source": [
        "slr.columns = slr.columns.str.strip().str.lower().str.replace(' ', '_').str.replace('(', '').str.replace(')', '')"
      ],
      "execution_count": null,
      "outputs": []
    },
    {
      "cell_type": "code",
      "metadata": {
        "id": "fERd5cjao2t8"
      },
      "source": [
        "from io import StringIO"
      ],
      "execution_count": null,
      "outputs": []
    },
    {
      "cell_type": "code",
      "metadata": {
        "id": "HaAtvbngo2t-",
        "outputId": "10536811-a63f-47a6-9fb5-4c66364074ee"
      },
      "source": [
        "slr.columns"
      ],
      "execution_count": null,
      "outputs": [
        {
          "output_type": "execute_result",
          "data": {
            "text/plain": [
              "Index(['site', 'subject', 'form', 'field', 'log..', 'query.status',\n",
              "       'qry.open.date', 'qry.open.by', 'query.text', 'marking.gr..name',\n",
              "       'qry.respon.date', 'site.response.text', 'qry.respnded.by', 'signal',\n",
              "       'db_status'],\n",
              "      dtype='object')"
            ]
          },
          "metadata": {
            "tags": []
          },
          "execution_count": 6
        }
      ]
    },
    {
      "cell_type": "code",
      "metadata": {
        "id": "h_fVWjDpo2uB"
      },
      "source": [
        "col = ['db_status', 'site.response.text']"
      ],
      "execution_count": null,
      "outputs": []
    },
    {
      "cell_type": "code",
      "metadata": {
        "id": "9-6bLZx_o2uD"
      },
      "source": [
        "slr = slr[col]"
      ],
      "execution_count": null,
      "outputs": []
    },
    {
      "cell_type": "markdown",
      "metadata": {
        "id": "zN739iwBo2uG"
      },
      "source": [
        "## We will remove missing values in “Site response text” column, and add a column encoding the \"db status\" as an integer because categorical variables are often better represented by integers than strings.\n",
        "\n",
        "We also create a couple of dictionaries for future use.\n",
        "\n",
        "After cleaning up, this is the first five rows of the data we will be working on:"
      ]
    },
    {
      "cell_type": "code",
      "metadata": {
        "id": "B84HsTGlo2uG"
      },
      "source": [
        "slr = slr[pd.notnull(slr['site.response.text'])]"
      ],
      "execution_count": null,
      "outputs": []
    },
    {
      "cell_type": "code",
      "metadata": {
        "id": "Xnv5-Ugto2uI"
      },
      "source": [
        "slr.columns = ['db_status', 'site.response.text']"
      ],
      "execution_count": null,
      "outputs": []
    },
    {
      "cell_type": "code",
      "metadata": {
        "id": "KKT3s4s2o2uL"
      },
      "source": [
        "slr['category_id'] = slr['db_status'].factorize()[0]"
      ],
      "execution_count": null,
      "outputs": []
    },
    {
      "cell_type": "code",
      "metadata": {
        "id": "KjLvLUZvo2uN"
      },
      "source": [
        "category_id_df = slr[['db_status', 'category_id']].drop_duplicates().sort_values('category_id')"
      ],
      "execution_count": null,
      "outputs": []
    },
    {
      "cell_type": "code",
      "metadata": {
        "id": "fTkUBR-po2uP"
      },
      "source": [
        "category_to_id = dict(category_id_df.values)"
      ],
      "execution_count": null,
      "outputs": []
    },
    {
      "cell_type": "code",
      "metadata": {
        "id": "d1t-8ndOo2uS",
        "outputId": "7c640ff7-13e0-421b-965e-a876d7fe01bc"
      },
      "source": [
        "sorted(category_to_id.items())"
      ],
      "execution_count": null,
      "outputs": [
        {
          "output_type": "execute_result",
          "data": {
            "text/plain": [
              "[('No', 1), ('Yes', 0)]"
            ]
          },
          "metadata": {
            "tags": []
          },
          "execution_count": 14
        }
      ]
    },
    {
      "cell_type": "code",
      "metadata": {
        "id": "DLFwkfwKo2uU"
      },
      "source": [
        "id_to_category = dict(category_id_df[['category_id', 'db_status']].values)"
      ],
      "execution_count": null,
      "outputs": []
    },
    {
      "cell_type": "code",
      "metadata": {
        "id": "BppSvpkLo2uX",
        "outputId": "7d26cc3f-6c29-4fcb-ea1b-4e79db6d5577"
      },
      "source": [
        "slr.head()"
      ],
      "execution_count": null,
      "outputs": [
        {
          "output_type": "execute_result",
          "data": {
            "text/html": [
              "<div>\n",
              "<style scoped>\n",
              "    .dataframe tbody tr th:only-of-type {\n",
              "        vertical-align: middle;\n",
              "    }\n",
              "\n",
              "    .dataframe tbody tr th {\n",
              "        vertical-align: top;\n",
              "    }\n",
              "\n",
              "    .dataframe thead th {\n",
              "        text-align: right;\n",
              "    }\n",
              "</style>\n",
              "<table border=\"1\" class=\"dataframe\">\n",
              "  <thead>\n",
              "    <tr style=\"text-align: right;\">\n",
              "      <th></th>\n",
              "      <th>db_status</th>\n",
              "      <th>site.response.text</th>\n",
              "      <th>category_id</th>\n",
              "    </tr>\n",
              "  </thead>\n",
              "  <tbody>\n",
              "    <tr>\n",
              "      <th>0</th>\n",
              "      <td>Yes</td>\n",
              "      <td>Updated.</td>\n",
              "      <td>0</td>\n",
              "    </tr>\n",
              "    <tr>\n",
              "      <th>1</th>\n",
              "      <td>Yes</td>\n",
              "      <td>Updated.</td>\n",
              "      <td>0</td>\n",
              "    </tr>\n",
              "    <tr>\n",
              "      <th>2</th>\n",
              "      <td>Yes</td>\n",
              "      <td>updated</td>\n",
              "      <td>0</td>\n",
              "    </tr>\n",
              "    <tr>\n",
              "      <th>3</th>\n",
              "      <td>Yes</td>\n",
              "      <td>updated</td>\n",
              "      <td>0</td>\n",
              "    </tr>\n",
              "    <tr>\n",
              "      <th>4</th>\n",
              "      <td>Yes</td>\n",
              "      <td>updated</td>\n",
              "      <td>0</td>\n",
              "    </tr>\n",
              "  </tbody>\n",
              "</table>\n",
              "</div>"
            ],
            "text/plain": [
              "  db_status site.response.text  category_id\n",
              "0       Yes           Updated.            0\n",
              "1       Yes           Updated.            0\n",
              "2       Yes            updated            0\n",
              "3       Yes            updated            0\n",
              "4       Yes            updated            0"
            ]
          },
          "metadata": {
            "tags": []
          },
          "execution_count": 16
        }
      ]
    },
    {
      "cell_type": "markdown",
      "metadata": {
        "id": "bdYEkux6o2ua"
      },
      "source": [
        "## Text Representation\n",
        "The classifiers and learning algorithms can not directly process the text documents in their original form, as most of them expect numerical feature vectors with a fixed size rather than the raw text documents with variable length. Therefore, during the preprocessing step, the texts are converted to a more manageable representation.\n",
        "\n",
        "One common approach for extracting features from text is to use the bag of words model: a model where for each document, a site response text narrative in our case, the presence (and often the frequency) of words is taken into consideration, but the order in which they occur is ignored.\n",
        "\n",
        "Specifically, for each term in our dataset, we will calculate a measure called Term Frequency, Inverse Document Frequency, abbreviated to tf-idf. We will use sklearn.feature_extraction.text.TfidfVectorizer to calculate a tf-idf vector for each of site response text:\n",
        "\n",
        "sublinear_df is set to True to use a logarithmic form for frequency.\n",
        "\n",
        "min_df is the minimum numbers of documents a word must be present in to be kept.\n",
        "\n",
        "norm is set to l2, to ensure all our feature vectors have a euclidian norm of 1.\n",
        "\n",
        "ngram_range is set to (1, 2) to indicate that we want to consider both unigrams and bigrams.\n",
        "\n",
        "stop_words is set to \"english\" to remove all common pronouns (\"a\", \"the\", ...) to reduce the number of noisy features."
      ]
    },
    {
      "cell_type": "code",
      "metadata": {
        "id": "zDvkOPOIo2ua"
      },
      "source": [
        "from sklearn.feature_extraction.text import TfidfVectorizer"
      ],
      "execution_count": null,
      "outputs": []
    },
    {
      "cell_type": "code",
      "metadata": {
        "id": "ODO-JwWSo2uc"
      },
      "source": [
        "tfidf = TfidfVectorizer(sublinear_tf=True, min_df=5, norm='l2', encoding='latin-1', ngram_range=(1, 2), stop_words='english')"
      ],
      "execution_count": null,
      "outputs": []
    },
    {
      "cell_type": "code",
      "metadata": {
        "id": "F4lRGiUZo2ue",
        "outputId": "e3d81ca5-549a-4797-9b51-4d7038edda9d"
      },
      "source": [
        "slr['site.response.text'].head()"
      ],
      "execution_count": null,
      "outputs": [
        {
          "output_type": "execute_result",
          "data": {
            "text/plain": [
              "0    Updated.\n",
              "1    Updated.\n",
              "2     updated\n",
              "3     updated\n",
              "4     updated\n",
              "Name: site.response.text, dtype: object"
            ]
          },
          "metadata": {
            "tags": []
          },
          "execution_count": 19
        }
      ]
    },
    {
      "cell_type": "code",
      "metadata": {
        "id": "Y7r8bFFyo2uh"
      },
      "source": [
        "features = tfidf.fit_transform(slr['site.response.text']).toarray()"
      ],
      "execution_count": null,
      "outputs": []
    },
    {
      "cell_type": "code",
      "metadata": {
        "id": "PDebL-2Xo2uj"
      },
      "source": [
        "labels = slr.category_id"
      ],
      "execution_count": null,
      "outputs": []
    },
    {
      "cell_type": "code",
      "metadata": {
        "id": "he3GRsA2o2ul",
        "outputId": "cd25b6b8-5fd7-45d5-8682-d5a04c1141e2"
      },
      "source": [
        "features.shape"
      ],
      "execution_count": null,
      "outputs": [
        {
          "output_type": "execute_result",
          "data": {
            "text/plain": [
              "(1307, 217)"
            ]
          },
          "metadata": {
            "tags": []
          },
          "execution_count": 22
        }
      ]
    },
    {
      "cell_type": "markdown",
      "metadata": {
        "id": "pVfviF1Do2un"
      },
      "source": [
        "## Now, each of 971 site response texts are represented by 48 features, representing the tf-idf score for different unigrams and bigrams."
      ]
    },
    {
      "cell_type": "markdown",
      "metadata": {
        "id": "gVD6B2RRo2un"
      },
      "source": [
        "## Multi-Class Classifier: \n",
        "Features and Design\n",
        "To train supervised classifiers, we first transformed the “site response text” into a vector of numbers. We explored vector representations such as TF-IDF weighted vectors.\n",
        "After having this vector representations of the text we can train supervised classifiers to train unseen “site response text” and predict the “db status” on which they fall.\n",
        "After all the above data transformation, now that we have all the features and labels, it is time to train the classifiers. There are a number of algorithms we can use for this type of problem.\n",
        "\n",
        "Naive Bayes Classifier: the one most suitable for word counts is the multinomial variant:"
      ]
    },
    {
      "cell_type": "markdown",
      "metadata": {
        "id": "vNX6dQiIo2un"
      },
      "source": [
        "The training set is a subset of the data set used to train a model.\n",
        "\n",
        "x_train is the training data set.\n",
        "y_train is the set of labels to all the data in x_train.\n",
        "The test set is a subset of the data set that you use to test your model after the model has gone through initial vetting by the validation set.\n",
        "\n",
        "x_test is the test data set.\n",
        "y_test is the set of labels to all the data in x_test."
      ]
    },
    {
      "cell_type": "code",
      "metadata": {
        "id": "qpgbhOh8o2uo"
      },
      "source": [
        "from sklearn.model_selection import train_test_split\n",
        "from sklearn.feature_extraction.text import CountVectorizer\n",
        "from sklearn.feature_extraction.text import TfidfTransformer\n",
        "from sklearn.naive_bayes import MultinomialNB\n",
        "X_train, X_test, y_train, y_test = train_test_split(slr['site.response.text'], slr['db_status'], random_state = 0)\n",
        "count_vect = CountVectorizer()\n",
        "X_train_counts = count_vect.fit_transform(X_train)\n",
        "tfidf_transformer = TfidfTransformer()\n",
        "X_train_tfidf = tfidf_transformer.fit_transform(X_train_counts)\n",
        "clf = MultinomialNB().fit(X_train_tfidf, y_train)"
      ],
      "execution_count": null,
      "outputs": []
    },
    {
      "cell_type": "code",
      "metadata": {
        "id": "iQ6j3j9so2uq",
        "outputId": "236150ef-8698-4385-cde2-ca9bd152cdc7"
      },
      "source": [
        "X_train, X_test, y_train, y_test"
      ],
      "execution_count": null,
      "outputs": [
        {
          "output_type": "execute_result",
          "data": {
            "text/plain": [
              "(759                                  2018.3.13 UV updated\n",
              " 1010                                             Updated.\n",
              " 82                                           data correct\n",
              " 520                                                   NCS\n",
              " 861                            original value is correct.\n",
              " 996     The investigator determined the value as not c...\n",
              " 1242                                              updated\n",
              " 921                                        data was added\n",
              " 252                          Dose delayed on Cycle5 Day1.\n",
              " 416                                              Updated.\n",
              " 311                                         updated data.\n",
              " 1062                         eligibility pose no problems\n",
              " 113                                              Updated.\n",
              " 942                                               Updated\n",
              " 249                              refer to medical history\n",
              " 968                                              Updated.\n",
              " 263                                                   NCS\n",
              " 533                                      For menstruation\n",
              " 506                                                   NCS\n",
              " 271     This p's showed he had a good appetite. Pls co...\n",
              " 703                                               updated\n",
              " 924     toe numbness & finger numbness recove grade 1,...\n",
              " 122                Data was entered as unscheduled visit.\n",
              " 1271                                        Data updated.\n",
              " 927                                     unscheduled visit\n",
              " 1193                                              updated\n",
              " 16                                                 update\n",
              " 795                                               updated\n",
              " 393                                               updated\n",
              " 1241                                              updated\n",
              "                               ...                        \n",
              " 659                                               UPDATED\n",
              " 797     Since it is within the range of physiological ...\n",
              " 1284                                              updated\n",
              " 1201                                              updated\n",
              " 99                                                updated\n",
              " 850                    This is a thing by the dehydration\n",
              " 448                It was judged by clinical symptoms. ND\n",
              " 755                                               updated\n",
              " 976                                       AE log Updated.\n",
              " 115                                                update\n",
              " 777                                               entered\n",
              " 72                                                    NCS\n",
              " 845                                               correct\n",
              " 537                                                   NCS\n",
              " 849     Laboratory data was enterd in Visit 2018/11/09...\n",
              " 174                                            no problem\n",
              " 87       The SAE report occured on 02Jul2018 as reference\n",
              " 551                              not clinical significant\n",
              " 705                                               updated\n",
              " 314                             No clinically significant\n",
              " 600                   Symptom due to the primary disease.\n",
              " 1094                            original value is correct\n",
              " 599                   Symptom due to the primary disease.\n",
              " 277     Investigator judjed it is not clinically signi...\n",
              " 1033                                              updated\n",
              " 763                                               updated\n",
              " 835                                          correct data\n",
              " 1216     Unknown is correct per eCRF completion guidline.\n",
              " 559                      AE(anorexia) record on 06Jul2018\n",
              " 684                                               Updated\n",
              " Name: site.response.text, Length: 980, dtype: object,\n",
              " 609                                       Abnormal is NCS\n",
              " 412                                               updated\n",
              " 528                                                   NCS\n",
              " 1148               Constipation started from 16.SEP.2017.\n",
              " 930                          The start date was modified.\n",
              " 870                                    12/25 AMY 175 IU/L\n",
              " 5                                                Updated.\n",
              " 231       PI judgment the data not clinically significant\n",
              " 731                                               Updated\n",
              " 1290    The AE was not febrile neutropenia.So did not ...\n",
              " 322                                               updated\n",
              " 999                                                   yes\n",
              " 425            data is correct.No clinically significant.\n",
              " 1075                                      data is collect\n",
              " 251                    Data is not fasting blood glucose.\n",
              " 539                       no corresponding AE is observed\n",
              " 1170                                        Data updated.\n",
              " 31                                                 update\n",
              " 186                                               updated\n",
              " 1049                                              updated\n",
              " 1097                          Investigator confirmed NCS.\n",
              " 1188                                              updated\n",
              " 1105                                             Updated.\n",
              " 55                                  This data is correct.\n",
              " 814              The data was CS,please refer to AE No.10\n",
              " 948                                               Updated\n",
              " 501                                       data is correct\n",
              " 1150                         eligibility pose no problems\n",
              " 993                                              Updated.\n",
              " 657                                               updated\n",
              "                               ...                        \n",
              " 1116                                              updated\n",
              " 1250                                              updated\n",
              " 529                                                   NCS\n",
              " 724                                              Updated.\n",
              " 303             PI was judged not clinically significant.\n",
              " 794                                               updated\n",
              " 530                                                   NCS\n",
              " 432                                               updated\n",
              " 1117                                                  yes\n",
              " 947                                               Updated\n",
              " 1014                                              updated\n",
              " 987                            No clinically significant.\n",
              " 131                              IP dose was not changed.\n",
              " 15                                                 update\n",
              " 1113    Concomitant medication #1,3,4,25 were not used...\n",
              " 1245                                                  yes\n",
              " 760                       It's not clinically significant\n",
              " 793                                               updated\n",
              " 1090                      data correct in medical history\n",
              " 187                                               amended\n",
              " 191                                              Updated.\n",
              " 103                                               updated\n",
              " 466                                    Confirm is not AE.\n",
              " 60      Dosing criteria was not applicable because it ...\n",
              " 445                                               amended\n",
              " 1177                                             Updated.\n",
              " 1136                                              updated\n",
              " 818                                          data correct\n",
              " 644                                               Updated\n",
              " 748                            No clinically significant.\n",
              " Name: site.response.text, Length: 327, dtype: object,\n",
              " 759     Yes\n",
              " 1010    Yes\n",
              " 82       No\n",
              " 520      No\n",
              " 861      No\n",
              " 996     Yes\n",
              " 1242    Yes\n",
              " 921     Yes\n",
              " 252     Yes\n",
              " 416     Yes\n",
              " 311     Yes\n",
              " 1062     No\n",
              " 113     Yes\n",
              " 942     Yes\n",
              " 249      No\n",
              " 968     Yes\n",
              " 263      No\n",
              " 533      No\n",
              " 506      No\n",
              " 271      No\n",
              " 703     Yes\n",
              " 924      No\n",
              " 122     Yes\n",
              " 1271    Yes\n",
              " 927      No\n",
              " 1193    Yes\n",
              " 16      Yes\n",
              " 795     Yes\n",
              " 393     Yes\n",
              " 1241    Yes\n",
              "        ... \n",
              " 659     Yes\n",
              " 797      No\n",
              " 1284    Yes\n",
              " 1201    Yes\n",
              " 99      Yes\n",
              " 850      No\n",
              " 448     Yes\n",
              " 755     Yes\n",
              " 976     Yes\n",
              " 115     Yes\n",
              " 777     Yes\n",
              " 72       No\n",
              " 845      No\n",
              " 537      No\n",
              " 849     Yes\n",
              " 174      No\n",
              " 87       No\n",
              " 551      No\n",
              " 705     Yes\n",
              " 314     Yes\n",
              " 600      No\n",
              " 1094     No\n",
              " 599      No\n",
              " 277     Yes\n",
              " 1033    Yes\n",
              " 763     Yes\n",
              " 835      No\n",
              " 1216     No\n",
              " 559      No\n",
              " 684     Yes\n",
              " Name: db_status, Length: 980, dtype: object,\n",
              " 609      No\n",
              " 412     Yes\n",
              " 528      No\n",
              " 1148     No\n",
              " 930      No\n",
              " 870     Yes\n",
              " 5       Yes\n",
              " 231     Yes\n",
              " 731     Yes\n",
              " 1290     No\n",
              " 322     Yes\n",
              " 999     Yes\n",
              " 425     Yes\n",
              " 1075    Yes\n",
              " 251      No\n",
              " 539      No\n",
              " 1170    Yes\n",
              " 31      Yes\n",
              " 186     Yes\n",
              " 1049    Yes\n",
              " 1097     No\n",
              " 1188    Yes\n",
              " 1105    Yes\n",
              " 55       No\n",
              " 814      No\n",
              " 948     Yes\n",
              " 501      No\n",
              " 1150     No\n",
              " 993     Yes\n",
              " 657     Yes\n",
              "        ... \n",
              " 1116    Yes\n",
              " 1250    Yes\n",
              " 529      No\n",
              " 724     Yes\n",
              " 303     Yes\n",
              " 794     Yes\n",
              " 530      No\n",
              " 432     Yes\n",
              " 1117    Yes\n",
              " 947     Yes\n",
              " 1014    Yes\n",
              " 987     Yes\n",
              " 131     Yes\n",
              " 15      Yes\n",
              " 1113    Yes\n",
              " 1245    Yes\n",
              " 760     Yes\n",
              " 793     Yes\n",
              " 1090     No\n",
              " 187     Yes\n",
              " 191     Yes\n",
              " 103     Yes\n",
              " 466      No\n",
              " 60       No\n",
              " 445     Yes\n",
              " 1177    Yes\n",
              " 1136    Yes\n",
              " 818      No\n",
              " 644     Yes\n",
              " 748     Yes\n",
              " Name: db_status, Length: 327, dtype: object)"
            ]
          },
          "metadata": {
            "tags": []
          },
          "execution_count": 24
        }
      ]
    },
    {
      "cell_type": "markdown",
      "metadata": {
        "id": "0AEHDRPRo2us"
      },
      "source": [
        "## After fitting the training set, let’s make some predictions."
      ]
    },
    {
      "cell_type": "code",
      "metadata": {
        "id": "8kMM4idmo2ut",
        "outputId": "93f68ff2-b62d-40da-cbe4-e2be69b785ae"
      },
      "source": [
        "#predicting new SLDR closed queries\n",
        "print(clf.predict(count_vect.transform([\"NCS\"])))"
      ],
      "execution_count": null,
      "outputs": [
        {
          "output_type": "stream",
          "text": [
            "['No']\n"
          ],
          "name": "stdout"
        }
      ]
    },
    {
      "cell_type": "markdown",
      "metadata": {
        "id": "Z48NYAILo2uv"
      },
      "source": [
        "Cross checking predicted query"
      ]
    },
    {
      "cell_type": "code",
      "metadata": {
        "id": "ETXbzUoZo2uv",
        "outputId": "506869b6-f61b-487e-8f06-75231b6f6a69"
      },
      "source": [
        "slr[slr['site.response.text'] == \" \"]"
      ],
      "execution_count": null,
      "outputs": [
        {
          "output_type": "execute_result",
          "data": {
            "text/html": [
              "<div>\n",
              "<style scoped>\n",
              "    .dataframe tbody tr th:only-of-type {\n",
              "        vertical-align: middle;\n",
              "    }\n",
              "\n",
              "    .dataframe tbody tr th {\n",
              "        vertical-align: top;\n",
              "    }\n",
              "\n",
              "    .dataframe thead th {\n",
              "        text-align: right;\n",
              "    }\n",
              "</style>\n",
              "<table border=\"1\" class=\"dataframe\">\n",
              "  <thead>\n",
              "    <tr style=\"text-align: right;\">\n",
              "      <th></th>\n",
              "      <th>db_status</th>\n",
              "      <th>site.response.text</th>\n",
              "      <th>category_id</th>\n",
              "    </tr>\n",
              "  </thead>\n",
              "  <tbody>\n",
              "  </tbody>\n",
              "</table>\n",
              "</div>"
            ],
            "text/plain": [
              "Empty DataFrame\n",
              "Columns: [db_status, site.response.text, category_id]\n",
              "Index: []"
            ]
          },
          "metadata": {
            "tags": []
          },
          "execution_count": 26
        }
      ]
    },
    {
      "cell_type": "markdown",
      "metadata": {
        "id": "uWSbXeUJo2ux"
      },
      "source": [
        "## Model Selection\n",
        "We are now ready to experiment with different machine learning models, evaluate their accuracy and find the source of any potential issues.\n",
        "\n",
        "We will benchmark the following four models:\n",
        "\n",
        "Logistic Regression\n",
        "\n",
        "(Multinomial) Naive Bayes\n",
        "\n",
        "Linear Support Vector Machine\n",
        "\n",
        "Random Forest"
      ]
    },
    {
      "cell_type": "code",
      "metadata": {
        "id": "ZnHn6N0Eo2ux",
        "outputId": "42f16bb3-1918-4276-9095-5915c4608976"
      },
      "source": [
        "from sklearn.linear_model import LogisticRegression\n",
        "from sklearn.ensemble import RandomForestClassifier\n",
        "from sklearn.svm import LinearSVC\n",
        "from sklearn.model_selection import cross_val_score\n",
        "models = [\n",
        "    RandomForestClassifier(n_estimators=200, max_depth=3, random_state=0),\n",
        "    LinearSVC(),\n",
        "    MultinomialNB(),\n",
        "    LogisticRegression(random_state=0),\n",
        "]\n",
        "CV = 5\n",
        "cv_df = pd.DataFrame(index=range(CV * len(models)))\n",
        "entries = []\n",
        "for model in models:\n",
        "  model_name = model.__class__.__name__\n",
        "  accuracies = cross_val_score(model, features, labels, scoring='accuracy', cv=CV)\n",
        "  for fold_idx, accuracy in enumerate(accuracies):\n",
        "    entries.append((model_name, fold_idx, accuracy))\n",
        "cv_df = pd.DataFrame(entries, columns=['model_name', 'fold_idx', 'accuracy'])\n",
        "import seaborn as sns\n",
        "sns.boxplot(x='model_name', y='accuracy', data=cv_df)\n",
        "sns.stripplot(x='model_name', y='accuracy', data=cv_df, \n",
        "              size=8, jitter=True, edgecolor=\"gray\", linewidth=2)\n",
        "plt.show()\n"
      ],
      "execution_count": null,
      "outputs": [
        {
          "output_type": "display_data",
          "data": {
            "image/png": "[encoded data removed]",
            "text/plain": [
              "<Figure size 432x288 with 1 Axes>"
            ]
          },
          "metadata": {
            "tags": []
          }
        }
      ]
    },
    {
      "cell_type": "code",
      "metadata": {
        "id": "9gFEy02to2u0",
        "outputId": "1fb59d82-7925-44b4-f209-b1262b389ee1"
      },
      "source": [
        "cv_df.groupby('model_name').accuracy.mean()"
      ],
      "execution_count": null,
      "outputs": [
        {
          "output_type": "execute_result",
          "data": {
            "text/plain": [
              "model_name\n",
              "LinearSVC                 0.909719\n",
              "LogisticRegression        0.916604\n",
              "MultinomialNB             0.908207\n",
              "RandomForestClassifier    0.713834\n",
              "Name: accuracy, dtype: float64"
            ]
          },
          "metadata": {
            "tags": []
          },
          "execution_count": 28
        }
      ]
    },
    {
      "cell_type": "markdown",
      "metadata": {
        "id": "LGWQVUP5o2u2"
      },
      "source": [
        "Multinomial NB and Logistic Regression perform better than the other two classifiers, with both having a slight advantage with a median accuracy of around 94%."
      ]
    },
    {
      "cell_type": "markdown",
      "metadata": {
        "id": "6gkWXQXvo2u3"
      },
      "source": [
        "## Model Evaluation\n",
        "Continue with our best model (LinearSVC), we are going to look at the confusion matrix, and show the discrepancies between predicted and actual labels."
      ]
    },
    {
      "cell_type": "code",
      "metadata": {
        "scrolled": true,
        "id": "2SonL9qco2u3",
        "outputId": "318411c8-6dc4-473f-999c-c7ea24f4ab0a"
      },
      "source": [
        "model = LinearSVC()\n",
        "X_train, X_test, y_train, y_test, indices_train, indices_test = train_test_split(features, labels, slr.index, test_size=0.33, random_state=0)\n",
        "model.fit(X_train, y_train)\n",
        "y_pred = model.predict(X_test)\n",
        "from sklearn.metrics import confusion_matrix\n",
        "conf_mat = confusion_matrix(y_test, y_pred)\n",
        "fig, ax = plt.subplots(figsize=(10,10))\n",
        "sns.heatmap(conf_mat, annot=True, fmt='d',\n",
        "            xticklabels=category_id_df.db_status.values, yticklabels=category_id_df.db_status.values)\n",
        "plt.ylabel('Actual')\n",
        "plt.xlabel('Predicted')\n",
        "plt.show()"
      ],
      "execution_count": null,
      "outputs": [
        {
          "output_type": "display_data",
          "data": {
            "image/png": "[encoded data removed]",
            "text/plain": [
              "<Figure size 720x720 with 2 Axes>"
            ]
          },
          "metadata": {
            "tags": []
          }
        }
      ]
    },
    {
      "cell_type": "markdown",
      "metadata": {
        "id": "uD_XW468o2u6"
      },
      "source": [
        "The vast majority of the predictions end up on the diagonal (predicted label = actual label), where we want them to be. However, there are a number of misclassifications, and it might be interesting to see what those are caused by:"
      ]
    },
    {
      "cell_type": "code",
      "metadata": {
        "id": "MqqPggT2o2u6"
      },
      "source": [
        "from sklearn.naive_bayes import MultinomialNB\n",
        "lm = MultinomialNB()\n",
        "model = lm.fit(X_train, y_train)\n",
        "predictions = lm.predict(X_test)"
      ],
      "execution_count": null,
      "outputs": []
    },
    {
      "cell_type": "code",
      "metadata": {
        "id": "C4E85adHo2u9",
        "outputId": "03ba204c-27c3-4930-a3f2-410a6c2c9125"
      },
      "source": [
        "model.score(X_test, y_test)"
      ],
      "execution_count": null,
      "outputs": [
        {
          "output_type": "execute_result",
          "data": {
            "text/plain": [
              "0.9328703703703703"
            ]
          },
          "metadata": {
            "tags": []
          },
          "execution_count": 31
        }
      ]
    },
    {
      "cell_type": "code",
      "metadata": {
        "id": "ZiMXWaFio2u_",
        "outputId": "51601427-c01d-43fc-87c9-9fa03a4fe98f"
      },
      "source": [
        "from IPython.display import display\n",
        "for predicted in category_id_df.category_id:\n",
        "  for actual in category_id_df.category_id:\n",
        "    if predicted != actual and conf_mat[actual, predicted] >= 10:\n",
        "      print(\"'{}' predicted as '{}' : {} examples.\".format(id_to_category[actual], id_to_category[predicted], conf_mat[actual, predicted]))\n",
        "      display(slr.loc[indices_test[(y_test == actual) & (y_pred == predicted)]][['db_status', 'site.response.text']])\n",
        "      print('')"
      ],
      "execution_count": null,
      "outputs": [
        {
          "output_type": "stream",
          "text": [
            "'Yes' predicted as 'No' : 14 examples.\n"
          ],
          "name": "stdout"
        },
        {
          "output_type": "display_data",
          "data": {
            "text/html": [
              "<div>\n",
              "<style scoped>\n",
              "    .dataframe tbody tr th:only-of-type {\n",
              "        vertical-align: middle;\n",
              "    }\n",
              "\n",
              "    .dataframe tbody tr th {\n",
              "        vertical-align: top;\n",
              "    }\n",
              "\n",
              "    .dataframe thead th {\n",
              "        text-align: right;\n",
              "    }\n",
              "</style>\n",
              "<table border=\"1\" class=\"dataframe\">\n",
              "  <thead>\n",
              "    <tr style=\"text-align: right;\">\n",
              "      <th></th>\n",
              "      <th>db_status</th>\n",
              "      <th>site.response.text</th>\n",
              "    </tr>\n",
              "  </thead>\n",
              "  <tbody>\n",
              "    <tr>\n",
              "      <th>870</th>\n",
              "      <td>Yes</td>\n",
              "      <td>12/25 AMY 175 IU/L</td>\n",
              "    </tr>\n",
              "    <tr>\n",
              "      <th>1164</th>\n",
              "      <td>Yes</td>\n",
              "      <td>done</td>\n",
              "    </tr>\n",
              "    <tr>\n",
              "      <th>1265</th>\n",
              "      <td>Yes</td>\n",
              "      <td>1</td>\n",
              "    </tr>\n",
              "    <tr>\n",
              "      <th>1076</th>\n",
              "      <td>Yes</td>\n",
              "      <td>updata</td>\n",
              "    </tr>\n",
              "    <tr>\n",
              "      <th>833</th>\n",
              "      <td>Yes</td>\n",
              "      <td>error</td>\n",
              "    </tr>\n",
              "    <tr>\n",
              "      <th>1091</th>\n",
              "      <td>Yes</td>\n",
              "      <td>done</td>\n",
              "    </tr>\n",
              "    <tr>\n",
              "      <th>1012</th>\n",
              "      <td>Yes</td>\n",
              "      <td>Concomitant medications started prior to the f...</td>\n",
              "    </tr>\n",
              "    <tr>\n",
              "      <th>269</th>\n",
              "      <td>Yes</td>\n",
              "      <td>OK</td>\n",
              "    </tr>\n",
              "    <tr>\n",
              "      <th>1088</th>\n",
              "      <td>Yes</td>\n",
              "      <td>chemotherapy was skipped due to this AE.</td>\n",
              "    </tr>\n",
              "    <tr>\n",
              "      <th>252</th>\n",
              "      <td>Yes</td>\n",
              "      <td>Dose delayed on Cycle5 Day1.</td>\n",
              "    </tr>\n",
              "    <tr>\n",
              "      <th>267</th>\n",
              "      <td>Yes</td>\n",
              "      <td>to prevent aggravation of arthralgia</td>\n",
              "    </tr>\n",
              "    <tr>\n",
              "      <th>840</th>\n",
              "      <td>Yes</td>\n",
              "      <td>AE line 10 was updasted</td>\n",
              "    </tr>\n",
              "    <tr>\n",
              "      <th>395</th>\n",
              "      <td>Yes</td>\n",
              "      <td>I haven't entered the value of lab test becaus...</td>\n",
              "    </tr>\n",
              "    <tr>\n",
              "      <th>1214</th>\n",
              "      <td>Yes</td>\n",
              "      <td>Investigational product was skipped at C2D1.</td>\n",
              "    </tr>\n",
              "  </tbody>\n",
              "</table>\n",
              "</div>"
            ],
            "text/plain": [
              "     db_status                                 site.response.text\n",
              "870        Yes                                 12/25 AMY 175 IU/L\n",
              "1164       Yes                                               done\n",
              "1265       Yes                                                  1\n",
              "1076       Yes                                             updata\n",
              "833        Yes                                              error\n",
              "1091       Yes                                               done\n",
              "1012       Yes  Concomitant medications started prior to the f...\n",
              "269        Yes                                                 OK\n",
              "1088       Yes           chemotherapy was skipped due to this AE.\n",
              "252        Yes                       Dose delayed on Cycle5 Day1.\n",
              "267        Yes               to prevent aggravation of arthralgia\n",
              "840        Yes                            AE line 10 was updasted\n",
              "395        Yes  I haven't entered the value of lab test becaus...\n",
              "1214       Yes       Investigational product was skipped at C2D1."
            ]
          },
          "metadata": {
            "tags": []
          }
        },
        {
          "output_type": "stream",
          "text": [
            "\n"
          ],
          "name": "stdout"
        }
      ]
    },
    {
      "cell_type": "code",
      "metadata": {
        "id": "nQzEv1lwo2vB",
        "outputId": "ebe8d15f-e652-4929-a8c0-45164780ccf4"
      },
      "source": [
        "model.fit(features, labels)"
      ],
      "execution_count": null,
      "outputs": [
        {
          "output_type": "execute_result",
          "data": {
            "text/plain": [
              "MultinomialNB(alpha=1.0, class_prior=None, fit_prior=True)"
            ]
          },
          "metadata": {
            "tags": []
          },
          "execution_count": 33
        }
      ]
    },
    {
      "cell_type": "code",
      "metadata": {
        "scrolled": true,
        "id": "RYKBIIijo2vD",
        "outputId": "667818f2-8b12-458e-a62d-fcf79d95fb4d"
      },
      "source": [
        "from sklearn import metrics\n",
        "print(metrics.classification_report(y_test, y_pred, target_names=slr['db_status'].unique()))"
      ],
      "execution_count": null,
      "outputs": [
        {
          "output_type": "stream",
          "text": [
            "             precision    recall  f1-score   support\n",
            "\n",
            "        Yes       0.97      0.95      0.96       285\n",
            "         No       0.91      0.94      0.92       147\n",
            "\n",
            "avg / total       0.95      0.95      0.95       432\n",
            "\n"
          ],
          "name": "stdout"
        }
      ]
    },
    {
      "cell_type": "code",
      "metadata": {
        "id": "BiLSsvTYo2vG",
        "outputId": "d2255296-88b1-4b04-8eca-392f437762ad"
      },
      "source": [
        "model = MultinomialNB()\n",
        "X_train, X_test, y_train, y_test, indices_train, indices_test = train_test_split(features, labels, slr.index, test_size=0.33, random_state=0)\n",
        "model.fit(X_train, y_train)\n",
        "y_pred = model.predict(X_test)\n",
        "from sklearn.metrics import confusion_matrix\n",
        "conf_mat = confusion_matrix(y_test, y_pred)\n",
        "fig, ax = plt.subplots(figsize=(10,10))\n",
        "sns.heatmap(conf_mat, annot=True, fmt='d',\n",
        "            xticklabels=category_id_df.db_status.values, yticklabels=category_id_df.db_status.values)\n",
        "plt.ylabel('Actual')\n",
        "plt.xlabel('Predicted')\n",
        "plt.show()"
      ],
      "execution_count": null,
      "outputs": [
        {
          "output_type": "display_data",
          "data": {
            "image/png": "[encoded data removed]",
            "text/plain": [
              "<Figure size 720x720 with 2 Axes>"
            ]
          },
          "metadata": {
            "tags": []
          }
        }
      ]
    },
    {
      "cell_type": "code",
      "metadata": {
        "id": "tcjJGisqo2vI",
        "outputId": "dc6c5ea5-89b4-4e7c-a199-fd3ad8a1d9c7"
      },
      "source": [
        "from IPython.display import display\n",
        "for predicted in category_id_df.category_id:\n",
        "  for actual in category_id_df.category_id:\n",
        "    if predicted != actual and conf_mat[actual, predicted] >= 10:\n",
        "      print(\"'{}' predicted as '{}' : {} examples.\".format(id_to_category[actual], id_to_category[predicted], conf_mat[actual, predicted]))\n",
        "      display(slr.loc[indices_test[(y_test == actual) & (y_pred == predicted)]][['db_status', 'site.response.text']])\n",
        "      print('')"
      ],
      "execution_count": null,
      "outputs": [
        {
          "output_type": "stream",
          "text": [
            "'No' predicted as 'Yes' : 19 examples.\n"
          ],
          "name": "stdout"
        },
        {
          "output_type": "display_data",
          "data": {
            "text/html": [
              "<div>\n",
              "<style scoped>\n",
              "    .dataframe tbody tr th:only-of-type {\n",
              "        vertical-align: middle;\n",
              "    }\n",
              "\n",
              "    .dataframe tbody tr th {\n",
              "        vertical-align: top;\n",
              "    }\n",
              "\n",
              "    .dataframe thead th {\n",
              "        text-align: right;\n",
              "    }\n",
              "</style>\n",
              "<table border=\"1\" class=\"dataframe\">\n",
              "  <thead>\n",
              "    <tr style=\"text-align: right;\">\n",
              "      <th></th>\n",
              "      <th>db_status</th>\n",
              "      <th>site.response.text</th>\n",
              "    </tr>\n",
              "  </thead>\n",
              "  <tbody>\n",
              "    <tr>\n",
              "      <th>930</th>\n",
              "      <td>No</td>\n",
              "      <td>The start date was modified.</td>\n",
              "    </tr>\n",
              "    <tr>\n",
              "      <th>161</th>\n",
              "      <td>No</td>\n",
              "      <td>here was no major complaint at this visit, so ...</td>\n",
              "    </tr>\n",
              "    <tr>\n",
              "      <th>268</th>\n",
              "      <td>No</td>\n",
              "      <td>due to pnuemonia</td>\n",
              "    </tr>\n",
              "    <tr>\n",
              "      <th>85</th>\n",
              "      <td>No</td>\n",
              "      <td>The SAE report occured on 02Jul2018 as reference</td>\n",
              "    </tr>\n",
              "    <tr>\n",
              "      <th>935</th>\n",
              "      <td>No</td>\n",
              "      <td>we confirmed not meet</td>\n",
              "    </tr>\n",
              "    <tr>\n",
              "      <th>481</th>\n",
              "      <td>No</td>\n",
              "      <td>Please see at the Lab data on March 29, 2018.</td>\n",
              "    </tr>\n",
              "    <tr>\n",
              "      <th>184</th>\n",
              "      <td>No</td>\n",
              "      <td>none</td>\n",
              "    </tr>\n",
              "    <tr>\n",
              "      <th>254</th>\n",
              "      <td>No</td>\n",
              "      <td>Not significant</td>\n",
              "    </tr>\n",
              "    <tr>\n",
              "      <th>926</th>\n",
              "      <td>No</td>\n",
              "      <td>unscheduled visit</td>\n",
              "    </tr>\n",
              "    <tr>\n",
              "      <th>247</th>\n",
              "      <td>No</td>\n",
              "      <td>Include to FN</td>\n",
              "    </tr>\n",
              "    <tr>\n",
              "      <th>477</th>\n",
              "      <td>No</td>\n",
              "      <td>PI confirmed not clinically sognofocant.</td>\n",
              "    </tr>\n",
              "    <tr>\n",
              "      <th>44</th>\n",
              "      <td>No</td>\n",
              "      <td>As specified in the protocol, paclitaxel was a...</td>\n",
              "    </tr>\n",
              "    <tr>\n",
              "      <th>70</th>\n",
              "      <td>No</td>\n",
              "      <td>Symptoms do not increase and remain.</td>\n",
              "    </tr>\n",
              "    <tr>\n",
              "      <th>64</th>\n",
              "      <td>No</td>\n",
              "      <td>Rash maculopapula confirmed not to match injec...</td>\n",
              "    </tr>\n",
              "    <tr>\n",
              "      <th>533</th>\n",
              "      <td>No</td>\n",
              "      <td>For menstruation</td>\n",
              "    </tr>\n",
              "    <tr>\n",
              "      <th>927</th>\n",
              "      <td>No</td>\n",
              "      <td>unscheduled visit</td>\n",
              "    </tr>\n",
              "    <tr>\n",
              "      <th>583</th>\n",
              "      <td>No</td>\n",
              "      <td>Data is crrect(manual page 114)</td>\n",
              "    </tr>\n",
              "    <tr>\n",
              "      <th>183</th>\n",
              "      <td>No</td>\n",
              "      <td>none</td>\n",
              "    </tr>\n",
              "    <tr>\n",
              "      <th>494</th>\n",
              "      <td>No</td>\n",
              "      <td>We made modifications</td>\n",
              "    </tr>\n",
              "  </tbody>\n",
              "</table>\n",
              "</div>"
            ],
            "text/plain": [
              "    db_status                                 site.response.text\n",
              "930        No                       The start date was modified.\n",
              "161        No  here was no major complaint at this visit, so ...\n",
              "268        No                                   due to pnuemonia\n",
              "85         No   The SAE report occured on 02Jul2018 as reference\n",
              "935        No                              we confirmed not meet\n",
              "481        No      Please see at the Lab data on March 29, 2018.\n",
              "184        No                                               none\n",
              "254        No                                    Not significant\n",
              "926        No                                  unscheduled visit\n",
              "247        No                                      Include to FN\n",
              "477        No           PI confirmed not clinically sognofocant.\n",
              "44         No  As specified in the protocol, paclitaxel was a...\n",
              "70         No               Symptoms do not increase and remain.\n",
              "64         No  Rash maculopapula confirmed not to match injec...\n",
              "533        No                                   For menstruation\n",
              "927        No                                  unscheduled visit\n",
              "583        No                    Data is crrect(manual page 114)\n",
              "183        No                                               none\n",
              "494        No                              We made modifications"
            ]
          },
          "metadata": {
            "tags": []
          }
        },
        {
          "output_type": "stream",
          "text": [
            "\n",
            "'Yes' predicted as 'No' : 10 examples.\n"
          ],
          "name": "stdout"
        },
        {
          "output_type": "display_data",
          "data": {
            "text/html": [
              "<div>\n",
              "<style scoped>\n",
              "    .dataframe tbody tr th:only-of-type {\n",
              "        vertical-align: middle;\n",
              "    }\n",
              "\n",
              "    .dataframe tbody tr th {\n",
              "        vertical-align: top;\n",
              "    }\n",
              "\n",
              "    .dataframe thead th {\n",
              "        text-align: right;\n",
              "    }\n",
              "</style>\n",
              "<table border=\"1\" class=\"dataframe\">\n",
              "  <thead>\n",
              "    <tr style=\"text-align: right;\">\n",
              "      <th></th>\n",
              "      <th>db_status</th>\n",
              "      <th>site.response.text</th>\n",
              "    </tr>\n",
              "  </thead>\n",
              "  <tbody>\n",
              "    <tr>\n",
              "      <th>1140</th>\n",
              "      <td>Yes</td>\n",
              "      <td>applicable AE Number Dose  EXOT on concomitant...</td>\n",
              "    </tr>\n",
              "    <tr>\n",
              "      <th>1012</th>\n",
              "      <td>Yes</td>\n",
              "      <td>Concomitant medications started prior to the f...</td>\n",
              "    </tr>\n",
              "    <tr>\n",
              "      <th>580</th>\n",
              "      <td>Yes</td>\n",
              "      <td>Corresponding laboratory data is recorded.</td>\n",
              "    </tr>\n",
              "    <tr>\n",
              "      <th>1203</th>\n",
              "      <td>Yes</td>\n",
              "      <td>applicable AE Number Dose  EXOT on concomitant...</td>\n",
              "    </tr>\n",
              "    <tr>\n",
              "      <th>1088</th>\n",
              "      <td>Yes</td>\n",
              "      <td>chemotherapy was skipped due to this AE.</td>\n",
              "    </tr>\n",
              "    <tr>\n",
              "      <th>252</th>\n",
              "      <td>Yes</td>\n",
              "      <td>Dose delayed on Cycle5 Day1.</td>\n",
              "    </tr>\n",
              "    <tr>\n",
              "      <th>1228</th>\n",
              "      <td>Yes</td>\n",
              "      <td>chemotherapy related nausea grade2~grade3</td>\n",
              "    </tr>\n",
              "    <tr>\n",
              "      <th>578</th>\n",
              "      <td>Yes</td>\n",
              "      <td>Corresponding laboratory data is recorded.</td>\n",
              "    </tr>\n",
              "    <tr>\n",
              "      <th>840</th>\n",
              "      <td>Yes</td>\n",
              "      <td>AE line 10 was updasted</td>\n",
              "    </tr>\n",
              "    <tr>\n",
              "      <th>1214</th>\n",
              "      <td>Yes</td>\n",
              "      <td>Investigational product was skipped at C2D1.</td>\n",
              "    </tr>\n",
              "  </tbody>\n",
              "</table>\n",
              "</div>"
            ],
            "text/plain": [
              "     db_status                                 site.response.text\n",
              "1140       Yes  applicable AE Number Dose  EXOT on concomitant...\n",
              "1012       Yes  Concomitant medications started prior to the f...\n",
              "580        Yes         Corresponding laboratory data is recorded.\n",
              "1203       Yes  applicable AE Number Dose  EXOT on concomitant...\n",
              "1088       Yes           chemotherapy was skipped due to this AE.\n",
              "252        Yes                       Dose delayed on Cycle5 Day1.\n",
              "1228       Yes          chemotherapy related nausea grade2~grade3\n",
              "578        Yes         Corresponding laboratory data is recorded.\n",
              "840        Yes                            AE line 10 was updasted\n",
              "1214       Yes       Investigational product was skipped at C2D1."
            ]
          },
          "metadata": {
            "tags": []
          }
        },
        {
          "output_type": "stream",
          "text": [
            "\n"
          ],
          "name": "stdout"
        }
      ]
    }
  ]
}